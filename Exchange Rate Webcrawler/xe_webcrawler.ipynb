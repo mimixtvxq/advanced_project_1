{
 "cells": [
  {
   "cell_type": "code",
   "execution_count": 1,
   "metadata": {},
   "outputs": [],
   "source": [
    "# -*- coding: utf-8 -*-\n",
    "#Tanasorn Chindasook \n",
    "#Web crawler for exchange rates, advanced projects 1 Professor Adalbert Wilhelm\n",
    "\n",
    "import urllib2\n",
    "from urllib2 import urlopen\n",
    "from bs4 import BeautifulSoup as soup\n",
    "import numpy as np\n",
    "import datetime\n",
    "import time\n",
    "import pandas as pd\n",
    "import re\n",
    "import sys\n",
    "reload(sys)\n",
    "sys.setdefaultencoding(\"utf-8\")\n",
    "import requests"
   ]
  },
  {
   "cell_type": "code",
   "execution_count": 2,
   "metadata": {},
   "outputs": [],
   "source": [
    "#read csv for dates that need to be crawled\n",
    "csv_data = pd.read_csv(\"exchange_dates.csv\")\n",
    "#remove id column from r generated file\n",
    "csv_data.drop(['Unnamed: 0'], axis = 1, inplace = True)"
   ]
  },
  {
   "cell_type": "code",
   "execution_count": 3,
   "metadata": {},
   "outputs": [],
   "source": [
    "#Get all possible currencies needed to be converted\n",
    "currencies = csv_data['positions_currency'].unique()\n",
    "\n",
    "#get all possible dates needed to be crawled and replace all slashes with dashes\n",
    "dates = csv_data['created_date'].str.replace(\"/\",\"-\").unique()"
   ]
  },
  {
   "cell_type": "code",
   "execution_count": 4,
   "metadata": {},
   "outputs": [
    {
     "data": {
      "text/plain": [
       "array(['PLN', 'MXN', 'GBP', 'CHF', 'CAD', 'USD', 'BRL', 'SEK'],\n",
       "      dtype=object)"
      ]
     },
     "execution_count": 4,
     "metadata": {},
     "output_type": "execute_result"
    }
   ],
   "source": [
    "currencies"
   ]
  },
  {
   "cell_type": "code",
   "execution_count": 5,
   "metadata": {},
   "outputs": [],
   "source": [
    "#reformat the dates to be used in url \n",
    "new_dates = []\n",
    "for date in dates:\n",
    "    date_dict = {}\n",
    "    split_dates = date.split(\"-\")\n",
    "    date_dict.update({'d':split_dates[0], 'm':split_dates[1],'y':split_dates[2]})\n",
    "    new_dates.append(date_dict)"
   ]
  },
  {
   "cell_type": "code",
   "execution_count": 6,
   "metadata": {},
   "outputs": [],
   "source": [
    "historical_exchange_rates = []"
   ]
  },
  {
   "cell_type": "code",
   "execution_count": 7,
   "metadata": {},
   "outputs": [],
   "source": [
    "for i in range(len(new_dates)):\n",
    "    #form the url by the new dates and make request\n",
    "    time.sleep(7)\n",
    "    url = 'https://www.xe.com/currencytables/?from=EUR&date=' + str(new_dates[i]['y']) + '-' + str(new_dates[i]['m']) + '-' +str(new_dates[i]['d'])\n",
    "\n",
    "    r = requests.get(url, verify=False)\n",
    "    \n",
    "    \n",
    "    page_html = r.text\n",
    "    page_soup = soup(page_html,\"html.parser\")\n",
    "    \n",
    "    containers = page_soup.findAll('tr')\n",
    "    \n",
    "    #get each exchange rate\n",
    "    usd = containers[1].findAll('td')[3].text\n",
    "    cad = containers[6].findAll('td')[3].text\n",
    "    chf = containers[8].findAll('td')[3].text\n",
    "    mxn = containers[17].findAll('td')[3].text\n",
    "    sek = containers[20].findAll('td')[3].text\n",
    "    gbp = containers[3].findAll('td')[3].text\n",
    "    brl = containers[23].findAll('td')[3].text\n",
    "    pln = containers[35].findAll('td')[3].text\n",
    "\n",
    "    #create dict with dates\n",
    "    exchange_rates = {'date':dates[i]}\n",
    "    exchange_rates.update({'USD':usd,\"CAD\":cad,\"CHF\":chf,\"MXN\":mxn,\"SEK\":sek,\"GBP\":gbp,\"PLN\":pln})\n",
    "    historical_exchange_rates.append(exchange_rates)\n",
    "\n"
   ]
  },
  {
   "cell_type": "code",
   "execution_count": 8,
   "metadata": {},
   "outputs": [],
   "source": [
    "df = pd.DataFrame(historical_exchange_rates)\n",
    "df.to_csv(\"historical_exchange_rates1.csv\")"
   ]
  }
 ],
 "metadata": {
  "kernelspec": {
   "display_name": "Python 2",
   "language": "python",
   "name": "python2"
  },
  "language_info": {
   "codemirror_mode": {
    "name": "ipython",
    "version": 2
   },
   "file_extension": ".py",
   "mimetype": "text/x-python",
   "name": "python",
   "nbconvert_exporter": "python",
   "pygments_lexer": "ipython2",
   "version": "2.7.15"
  }
 },
 "nbformat": 4,
 "nbformat_minor": 2
}
